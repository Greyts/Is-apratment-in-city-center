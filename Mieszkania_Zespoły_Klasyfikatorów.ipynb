{
  "nbformat": 4,
  "nbformat_minor": 0,
  "metadata": {
    "colab": {
      "name": "Mieszkania Zespoły Klasyfikatorów",
      "provenance": [],
      "collapsed_sections": []
    },
    "kernelspec": {
      "name": "python3",
      "display_name": "Python 3"
    }
  },
  "cells": [
    {
      "cell_type": "code",
      "metadata": {
        "id": "axvd3-2hMYhk"
      },
      "source": [
        "from sklearn.model_selection import train_test_split\n",
        "import pandas as pd\n",
        "from sklearn.metrics import confusion_matrix, classification_report\n",
        "import seaborn as sns\n",
        "import numpy as np\n",
        "%matplotlib inline\n",
        "from sklearn.ensemble import BaggingClassifier\n",
        "from sklearn.naive_bayes import GaussianNB\n",
        "from sklearn.tree import DecisionTreeClassifier\n",
        "from google.colab import files\n",
        "from bs4 import BeautifulSoup\n",
        "import requests\n",
        "import re\n",
        "from sklearn.utils import resample\n",
        "from sklearn.preprocessing import StandardScaler\n",
        "from sklearn.preprocessing import LabelEncoder\n",
        "from sklearn.ensemble import AdaBoostClassifier\n",
        "from sklearn.ensemble import RandomForestClassifier\n",
        "\n",
        "#files.upload()\n",
        "data = pd.read_csv('gratkapl-centrenrm.csv')"
      ],
      "execution_count": null,
      "outputs": []
    },
    {
      "cell_type": "code",
      "metadata": {
        "id": "zSlbow2qNxtr"
      },
      "source": [
        "def get_page(url): # przygotowanie zupki przy użyciu biblioteki BeautifulSoup. Zupka to obiekt, na który składa się cała wartość pobieranej strony internetowej (tę pobiera się zaś przy użyciu biblioteki request)\n",
        "\n",
        "    r = requests.get(url) # pobieranie zawartości strony - https://requests.readthedocs.io/en/master/\n",
        "\n",
        "    if not r.ok: # weryfikacja, czy strona odpowiada - odpowiedź \"200\" to odpowiedź pozytywna - w tym 'ifie' wyświetlamy kod błędu, jeśli taki wystąpił\n",
        "        print('Server responded: ', r.status_code)\n",
        "    else:\n",
        "        print('Server responded correctly: ', r.status_code)\n",
        "        encoding = r.encoding if 'charset' in r.headers.get('content-type', '').lower() else None # namęczyłem się z tym strasznie - mała uwaga - BeautifulSoup ropzoznaje kodowanie strony automatycznej, niestety nie zawsze\n",
        "        soup = BeautifulSoup(r.content, from_encoding=encoding)                                   # mu się udaje. Stworzenie zmiennej \"encoding\", przeszukuje \"siłowo\" zawartość strony w poszukiwaniu kodowania.\n",
        "    return soup    # stworzenie i zwrócenie (hehe) gotowej zupki                                  # Dla języka polskiego to np windows-1250 albo utf-8 (w tym przypadku utf-8). Bez dekodowania polskie znaki byłyby krzaczkami\n",
        "\n",
        "def extractor(soup): # funkcja, która pozwala wyciągnąć wszystko, czego oczekujemy ze strony - https://www.crummy.com/software/BeautifulSoup/bs4/doc/ (przeglądarka u mnie wskazuje stronę jako niebezpieczną,\n",
        "                                                                                                  # ale to oficjalna strona biblioteki BeautifulSoup)\n",
        "\n",
        "    streets = [i.text for i in soup.find_all('div') if str(i).count('col-sm-6') >= 1] # stworzenie listy, która będzie zawierała wszystkie ulice w Poznaniu, wraz z dzielnicami, w których się znajdują. Na tym etapie to jeden\n",
        "    streets.remove(streets[0]) # pierwszy element listy odnosi się do navbaru         # string, podzielimy to wszystko później. W tym miejscu - soup.find_all('div') - wywołujemy metodę na obiekcie zupki. \n",
        "    return streets             # dlatego go wywaliłem                                 # Find_all wyszukuje wszystkie elementy typu <div>. <div> to element struktury strony w HTML, oznacza podział na sekcje.\n",
        "                                                                                      \n",
        "def street_district(streets):\n",
        "\n",
        "    return {street.replace((''.join(re.findall(r'.*?\\[(.*)].*',street))),'').replace('[]','').replace('ul.',''): # dict comprehension - co tu się właściwie dzieje? Działamy na liście stworzonej w funkcji extractor.\n",
        "            (''.join(re.findall(r'.*?\\[(.*)].*',street)))                                                        # Street to element listy - string, który wygląda przykładowo tak ul. Miśnieńska [Grunwald].\n",
        "            for street in streets}                                                                               # Najpierw klucz (key) słownika - czyli nazwa naszej ulicy.\n",
        "                                                                                                                 # street.replace ma na celu wyrzucanie zbędnych elementów stringa (.replace świetnie nadaje się do\n",
        "                                                                                                                 # wywalania 'substringów). Wywalamy tutaj 'ul.', następnie '[]', a z pomocą biblioteki 're' - \n",
        "                                                                                                                 # która służy do wyszukiwania wyrażeń regularnych (regular expressions) szukamy tego, co jest pomiędzy\n",
        "                                                                                                                 # kwadratowymi nawiasami. https://docs.python.org/3/library/re.html - .*?\\[(.*)].* <- to jest określona\n",
        "                                                                                                                 # ekspresja, której funkcja findall ma szukać w stringu. Oznacza tyle, co \"znajdź to, co jest między []\".\n",
        "                                                                                                                 # To również wywalamy z naszej nazwy ulicy - bo ma iść do wartości, a nie do klucza w słowniku.\n",
        "                                                                                                                 # Ten sam regex (regular expression) zastosowany jest do wygenerowania wartości (czyli dzielnicy) \n",
        "                                                                                                                 "
      ],
      "execution_count": null,
      "outputs": []
    },
    {
      "cell_type": "markdown",
      "metadata": {
        "id": "EdHte5c31xV2"
      },
      "source": [
        "soup.find_all('div') - Skąd wiemy, że akurat ten element należy wpisać w soup.find_all? Wynika to ze struktury HTML, na podstawie której została postawiona strona. Niestety - nie da się zautomatyzować tego procesu. Każda strona, nazewnictwo klas poszczególnych elementów, umiejscowienie tego, co nas interesuje, różnią się od siebie. Na jakiejkolwiek stronie kliknijcie prawym przyciskiem myszy, a nastepnie \"Zbadaj element\" (dla Opery). To właśnie z tego tworzymy zupkę przy pomocy request i BeautifulSoup. Dalej, po soup.find_all('div') mamy instrukcję warunkową - if str(i).count('col-sm-6') >= 1 . Oznacza ona tyle, że jeśli w stringu danego diva, którego znalazł find_all jest nazwa klasy 'col-sm-6' to jest właśnie to ,czego szukamy, a odrzucamy całą resztę. Nazwę klasy również znajdziemy w zupce, trzeba ją po prostu wyszukać. Spis ulic Poznania jest zrobiony na tyle dobrze, że wszystkie ulice znajdziemy pod 'div' tej samej klasym, więc dla wszystkich 2302 ulic, potrzebujemy tylko jednej linijki kodu. \n"
      ]
    },
    {
      "cell_type": "code",
      "metadata": {
        "colab": {
          "base_uri": "https://localhost:8080/",
          "height": 436
        },
        "id": "LbunmIjFPdCV",
        "outputId": "f07138f1-6da6-4c02-bcfd-852f937c5b96"
      },
      "source": [
        "url = 'http://mapa.livecity.pl/ulice/Poznań,0969400,1' # url do stronki z ulicami Poznania\n",
        "\n",
        "street_dict = street_district(extractor(get_page(url))) # słyszałem, że lubicie funkcje, więc wsadziłem funkcję, w funkcję, która jest w funkcji\n",
        "data_district = pd.DataFrame.from_dict(street_dict, orient='index', columns=['District']) # tworzymy dataframe \n",
        "data_hot_district = pd.get_dummies(data_district) # przekształcamy metodą one hot vector \n",
        "data_hot_district"
      ],
      "execution_count": null,
      "outputs": [
        {
          "output_type": "stream",
          "text": [
            "Server responded correctly:  200\n"
          ],
          "name": "stdout"
        },
        {
          "output_type": "execute_result",
          "data": {
            "text/html": [
              "<div>\n",
              "<style scoped>\n",
              "    .dataframe tbody tr th:only-of-type {\n",
              "        vertical-align: middle;\n",
              "    }\n",
              "\n",
              "    .dataframe tbody tr th {\n",
              "        vertical-align: top;\n",
              "    }\n",
              "\n",
              "    .dataframe thead th {\n",
              "        text-align: right;\n",
              "    }\n",
              "</style>\n",
              "<table border=\"1\" class=\"dataframe\">\n",
              "  <thead>\n",
              "    <tr style=\"text-align: right;\">\n",
              "      <th></th>\n",
              "      <th>District_Grunwald</th>\n",
              "      <th>District_Jeżyce</th>\n",
              "      <th>District_Nowe Miasto</th>\n",
              "      <th>District_Stare Miasto</th>\n",
              "      <th>District_Wilda</th>\n",
              "    </tr>\n",
              "  </thead>\n",
              "  <tbody>\n",
              "    <tr>\n",
              "      <th>Miśnieńska</th>\n",
              "      <td>1</td>\n",
              "      <td>0</td>\n",
              "      <td>0</td>\n",
              "      <td>0</td>\n",
              "      <td>0</td>\n",
              "    </tr>\n",
              "    <tr>\n",
              "      <th>Słowicza</th>\n",
              "      <td>1</td>\n",
              "      <td>0</td>\n",
              "      <td>0</td>\n",
              "      <td>0</td>\n",
              "      <td>0</td>\n",
              "    </tr>\n",
              "    <tr>\n",
              "      <th>Niecała</th>\n",
              "      <td>1</td>\n",
              "      <td>0</td>\n",
              "      <td>0</td>\n",
              "      <td>0</td>\n",
              "      <td>0</td>\n",
              "    </tr>\n",
              "    <tr>\n",
              "      <th>Boczna</th>\n",
              "      <td>1</td>\n",
              "      <td>0</td>\n",
              "      <td>0</td>\n",
              "      <td>0</td>\n",
              "      <td>0</td>\n",
              "    </tr>\n",
              "    <tr>\n",
              "      <th>Budziszyńska</th>\n",
              "      <td>1</td>\n",
              "      <td>0</td>\n",
              "      <td>0</td>\n",
              "      <td>0</td>\n",
              "      <td>0</td>\n",
              "    </tr>\n",
              "    <tr>\n",
              "      <th>...</th>\n",
              "      <td>...</td>\n",
              "      <td>...</td>\n",
              "      <td>...</td>\n",
              "      <td>...</td>\n",
              "      <td>...</td>\n",
              "    </tr>\n",
              "    <tr>\n",
              "      <th>Bohaterów Westerplatte</th>\n",
              "      <td>0</td>\n",
              "      <td>0</td>\n",
              "      <td>0</td>\n",
              "      <td>0</td>\n",
              "      <td>1</td>\n",
              "    </tr>\n",
              "    <tr>\n",
              "      <th>Jodłowa</th>\n",
              "      <td>0</td>\n",
              "      <td>0</td>\n",
              "      <td>0</td>\n",
              "      <td>0</td>\n",
              "      <td>1</td>\n",
              "    </tr>\n",
              "    <tr>\n",
              "      <th>ks. Jakuba Wujka</th>\n",
              "      <td>0</td>\n",
              "      <td>0</td>\n",
              "      <td>0</td>\n",
              "      <td>0</td>\n",
              "      <td>1</td>\n",
              "    </tr>\n",
              "    <tr>\n",
              "      <th>Korzenna</th>\n",
              "      <td>0</td>\n",
              "      <td>0</td>\n",
              "      <td>0</td>\n",
              "      <td>0</td>\n",
              "      <td>1</td>\n",
              "    </tr>\n",
              "    <tr>\n",
              "      <th>Józefa Rymera</th>\n",
              "      <td>0</td>\n",
              "      <td>0</td>\n",
              "      <td>0</td>\n",
              "      <td>0</td>\n",
              "      <td>1</td>\n",
              "    </tr>\n",
              "  </tbody>\n",
              "</table>\n",
              "<p>2302 rows × 5 columns</p>\n",
              "</div>"
            ],
            "text/plain": [
              "                           District_Grunwald  ...  District_Wilda\n",
              "  Miśnieńska                               1  ...               0\n",
              "  Słowicza                                 1  ...               0\n",
              "  Niecała                                  1  ...               0\n",
              "  Boczna                                   1  ...               0\n",
              "  Budziszyńska                             1  ...               0\n",
              "...                                      ...  ...             ...\n",
              "  Bohaterów Westerplatte                   0  ...               1\n",
              "  Jodłowa                                  0  ...               1\n",
              " ks. Jakuba Wujka                          0  ...               1\n",
              "  Korzenna                                 0  ...               1\n",
              " Józefa Rymera                             0  ...               1\n",
              "\n",
              "[2302 rows x 5 columns]"
            ]
          },
          "metadata": {
            "tags": []
          },
          "execution_count": 26
        }
      ]
    },
    {
      "cell_type": "code",
      "metadata": {
        "colab": {
          "base_uri": "https://localhost:8080/",
          "height": 419
        },
        "id": "VNzkdcnI0p2h",
        "outputId": "15940c51-b89c-4bd2-a158-3a6432210495"
      },
      "source": [
        "Q1 = data.quantile(0.25)\n",
        "Q3 = data.quantile(0.75)\n",
        "IQR = Q3 - Q1\n",
        "data_filtered = data[~((data < (Q1 - 1.5 * IQR)) | (data > (Q3 + 1.5 * IQR))).any(axis=1)]\n",
        "data_filtered\n"
      ],
      "execution_count": null,
      "outputs": [
        {
          "output_type": "execute_result",
          "data": {
            "text/html": [
              "<div>\n",
              "<style scoped>\n",
              "    .dataframe tbody tr th:only-of-type {\n",
              "        vertical-align: middle;\n",
              "    }\n",
              "\n",
              "    .dataframe tbody tr th {\n",
              "        vertical-align: top;\n",
              "    }\n",
              "\n",
              "    .dataframe thead th {\n",
              "        text-align: right;\n",
              "    }\n",
              "</style>\n",
              "<table border=\"1\" class=\"dataframe\">\n",
              "  <thead>\n",
              "    <tr style=\"text-align: right;\">\n",
              "      <th></th>\n",
              "      <th>Id</th>\n",
              "      <th>Expected</th>\n",
              "      <th>Rooms</th>\n",
              "      <th>SqrMeters</th>\n",
              "      <th>Floor</th>\n",
              "      <th>Location</th>\n",
              "      <th>Centre</th>\n",
              "      <th>Description</th>\n",
              "    </tr>\n",
              "  </thead>\n",
              "  <tbody>\n",
              "    <tr>\n",
              "      <th>1</th>\n",
              "      <td>437</td>\n",
              "      <td>280000</td>\n",
              "      <td>2</td>\n",
              "      <td>41.00</td>\n",
              "      <td>5</td>\n",
              "      <td>Poznań Poznań-Wilda</td>\n",
              "      <td>0</td>\n",
              "      <td>Polecam do sprzedaży mieszkanie dwupokojowe pr...</td>\n",
              "    </tr>\n",
              "    <tr>\n",
              "      <th>2</th>\n",
              "      <td>1139</td>\n",
              "      <td>329000</td>\n",
              "      <td>2</td>\n",
              "      <td>50.50</td>\n",
              "      <td>1</td>\n",
              "      <td>Poznań Ogrody</td>\n",
              "      <td>0</td>\n",
              "      <td>Polecam na sprzedaż mieszkanie 2-pokojowe na p...</td>\n",
              "    </tr>\n",
              "    <tr>\n",
              "      <th>4</th>\n",
              "      <td>192</td>\n",
              "      <td>280000</td>\n",
              "      <td>2</td>\n",
              "      <td>69.00</td>\n",
              "      <td>3</td>\n",
              "      <td>Poznań Wilda ul. Traugutta</td>\n",
              "      <td>0</td>\n",
              "      <td>Salon nieruchomości Iron House poleca na sprze...</td>\n",
              "    </tr>\n",
              "    <tr>\n",
              "      <th>6</th>\n",
              "      <td>277</td>\n",
              "      <td>239000</td>\n",
              "      <td>2</td>\n",
              "      <td>47.00</td>\n",
              "      <td>4</td>\n",
              "      <td>Poznań ul. Łokietka Osiedle</td>\n",
              "      <td>0</td>\n",
              "      <td>Polecam do sprzedaży 2-pokojowe mieszkanie poł...</td>\n",
              "    </tr>\n",
              "    <tr>\n",
              "      <th>7</th>\n",
              "      <td>1117</td>\n",
              "      <td>269000</td>\n",
              "      <td>2</td>\n",
              "      <td>45.00</td>\n",
              "      <td>4</td>\n",
              "      <td>Poznań Piątkowo Winogrady Sołacz Naramow ul. B...</td>\n",
              "      <td>1</td>\n",
              "      <td>BEZPIECZNA TRANSAKCJA JEDYNIE Z DOŚWIADCZONYM ...</td>\n",
              "    </tr>\n",
              "    <tr>\n",
              "      <th>...</th>\n",
              "      <td>...</td>\n",
              "      <td>...</td>\n",
              "      <td>...</td>\n",
              "      <td>...</td>\n",
              "      <td>...</td>\n",
              "      <td>...</td>\n",
              "      <td>...</td>\n",
              "      <td>...</td>\n",
              "    </tr>\n",
              "    <tr>\n",
              "      <th>2013</th>\n",
              "      <td>128</td>\n",
              "      <td>277000</td>\n",
              "      <td>2</td>\n",
              "      <td>46.10</td>\n",
              "      <td>3</td>\n",
              "      <td>Poznań Naramowice Piątkowo Winogrady ul. Sielawy</td>\n",
              "      <td>0</td>\n",
              "      <td>Kupując z pośrednikiem - kupujesz bezpiecznie ...</td>\n",
              "    </tr>\n",
              "    <tr>\n",
              "      <th>2014</th>\n",
              "      <td>484</td>\n",
              "      <td>371000</td>\n",
              "      <td>3</td>\n",
              "      <td>47.00</td>\n",
              "      <td>2</td>\n",
              "      <td>Poznań Łazarz ul. Grottgera 15/19</td>\n",
              "      <td>0</td>\n",
              "      <td>Najbardziej Prestiżowy Adres w Poznaniu!! Prze...</td>\n",
              "    </tr>\n",
              "    <tr>\n",
              "      <th>2015</th>\n",
              "      <td>795</td>\n",
              "      <td>341600</td>\n",
              "      <td>2</td>\n",
              "      <td>61.00</td>\n",
              "      <td>1</td>\n",
              "      <td>Poznań Poznań-Grunwald ul. Jana Matejki</td>\n",
              "      <td>0</td>\n",
              "      <td>Oferta sprzedaży mieszkania o łącznej powierzc...</td>\n",
              "    </tr>\n",
              "    <tr>\n",
              "      <th>2016</th>\n",
              "      <td>1562</td>\n",
              "      <td>149000</td>\n",
              "      <td>1</td>\n",
              "      <td>28.00</td>\n",
              "      <td>3</td>\n",
              "      <td>Poznań Dębiec</td>\n",
              "      <td>0</td>\n",
              "      <td>Kawalerka 28m2 na Dębcu SUPER CENA !!!! Poleca...</td>\n",
              "    </tr>\n",
              "    <tr>\n",
              "      <th>2017</th>\n",
              "      <td>155</td>\n",
              "      <td>270108</td>\n",
              "      <td>2</td>\n",
              "      <td>44.28</td>\n",
              "      <td>2</td>\n",
              "      <td>Poznań Winogrady ul. Hawelańska</td>\n",
              "      <td>0</td>\n",
              "      <td>Nieruchomości Mieszkania Nieruchomości Mieszkania</td>\n",
              "    </tr>\n",
              "  </tbody>\n",
              "</table>\n",
              "<p>1582 rows × 8 columns</p>\n",
              "</div>"
            ],
            "text/plain": [
              "        Id  Expected  ...  Centre                                        Description\n",
              "1      437    280000  ...       0  Polecam do sprzedaży mieszkanie dwupokojowe pr...\n",
              "2     1139    329000  ...       0  Polecam na sprzedaż mieszkanie 2-pokojowe na p...\n",
              "4      192    280000  ...       0  Salon nieruchomości Iron House poleca na sprze...\n",
              "6      277    239000  ...       0  Polecam do sprzedaży 2-pokojowe mieszkanie poł...\n",
              "7     1117    269000  ...       1  BEZPIECZNA TRANSAKCJA JEDYNIE Z DOŚWIADCZONYM ...\n",
              "...    ...       ...  ...     ...                                                ...\n",
              "2013   128    277000  ...       0  Kupując z pośrednikiem - kupujesz bezpiecznie ...\n",
              "2014   484    371000  ...       0  Najbardziej Prestiżowy Adres w Poznaniu!! Prze...\n",
              "2015   795    341600  ...       0  Oferta sprzedaży mieszkania o łącznej powierzc...\n",
              "2016  1562    149000  ...       0  Kawalerka 28m2 na Dębcu SUPER CENA !!!! Poleca...\n",
              "2017   155    270108  ...       0  Nieruchomości Mieszkania Nieruchomości Mieszkania\n",
              "\n",
              "[1582 rows x 8 columns]"
            ]
          },
          "metadata": {
            "tags": []
          },
          "execution_count": 35
        }
      ]
    },
    {
      "cell_type": "code",
      "metadata": {
        "id": "set5tZ2p1eVk"
      },
      "source": [
        "#X = data_filtered[['Expected','Rooms', 'SqrMeters', 'Floor']]\n",
        "#y = data_filtered['Centre']"
      ],
      "execution_count": null,
      "outputs": []
    },
    {
      "cell_type": "code",
      "metadata": {
        "colab": {
          "base_uri": "https://localhost:8080/"
        },
        "id": "YNWiF4n3g-Ui",
        "outputId": "3034e88a-95d2-48fd-e0fc-2c26752bda28"
      },
      "source": [
        "y.value_counts()"
      ],
      "execution_count": null,
      "outputs": [
        {
          "output_type": "execute_result",
          "data": {
            "text/plain": [
              "0    1324\n",
              "1     258\n",
              "Name: Centre, dtype: int64"
            ]
          },
          "metadata": {
            "tags": []
          },
          "execution_count": 36
        }
      ]
    },
    {
      "cell_type": "code",
      "metadata": {
        "id": "3vouPdfhhJuF"
      },
      "source": [
        "data_majority = data_filtered[data_filtered['Centre'] == 0]\n",
        "data_minority = data_filtered[data_filtered['Centre'] == 1]\n",
        "\n",
        "data_minority_unsampled = resample(data_minority, replace=True, n_samples=1324, random_state=42)\n",
        "data_unsampled = pd.concat([data_majority, data_minority_unsampled])\n",
        "\n",
        "data_majority_downsampled = resample(data_majority, replace=False, n_samples=258, random_state=42)\n",
        "data_downsampled = pd.concat([data_minority, data_majority_downsampled])\n",
        "\n",
        "scaler_unsampled = StandardScaler()\n",
        "X_unsampled = scaler_unsampled.fit_transform(data_unsampled[['Expected','Rooms', 'SqrMeters', 'Floor']])\n",
        "y_unsampled = data_unsampled['Centre']\n",
        "\n",
        "scaler_downsampled = StandardScaler()\n",
        "X_downsampled = scaler_downsampled.fit_transform(data_downsampled[['Expected','Rooms', 'SqrMeters', 'Floor']])\n",
        "y_downsampled = data_downsampled['Centre']"
      ],
      "execution_count": null,
      "outputs": []
    },
    {
      "cell_type": "code",
      "metadata": {
        "colab": {
          "base_uri": "https://localhost:8080/",
          "height": 418
        },
        "id": "afLblG3mh9ge",
        "outputId": "9a554507-79b6-4930-b384-102081af7541"
      },
      "source": [
        "X_train, X_test, y_train, y_test = train_test_split(X_unsampled, y_unsampled, stratify = y_unsampled, random_state = 42)\n",
        "\n",
        "model = DecisionTreeClassifier()\n",
        "model.fit(X_train, y_train)\n",
        "y_pred = model.predict(X_test)\n",
        "\n",
        "cm = confusion_matrix(y_test, y_pred)\n",
        "sns.heatmap(cm, annot=True, fmt='d')\n",
        "print(classification_report(y_test, y_pred))"
      ],
      "execution_count": null,
      "outputs": [
        {
          "output_type": "stream",
          "text": [
            "              precision    recall  f1-score   support\n",
            "\n",
            "           0       0.97      0.82      0.89       331\n",
            "           1       0.84      0.98      0.90       331\n",
            "\n",
            "    accuracy                           0.90       662\n",
            "   macro avg       0.91      0.90      0.90       662\n",
            "weighted avg       0.91      0.90      0.90       662\n",
            "\n"
          ],
          "name": "stdout"
        },
        {
          "output_type": "display_data",
          "data": {
            "image/png": "[encoded data removed]",
            "text/plain": [
              "<Figure size 432x288 with 2 Axes>"
            ]
          },
          "metadata": {
            "tags": [],
            "needs_background": "light"
          }
        }
      ]
    },
    {
      "cell_type": "code",
      "metadata": {
        "colab": {
          "base_uri": "https://localhost:8080/",
          "height": 418
        },
        "id": "kyNuZmRvkGFP",
        "outputId": "ee1aa398-1c15-4ed7-9dda-7d65e4fec229"
      },
      "source": [
        "X_train, X_test, y_train, y_test = train_test_split(X_downsampled, y_downsampled, stratify = y_downsampled, random_state = 42)\n",
        "\n",
        "model = DecisionTreeClassifier()\n",
        "model.fit(X_train, y_train)\n",
        "y_pred = model.predict(X_test)\n",
        "\n",
        "cm = confusion_matrix(y_test, y_pred)\n",
        "sns.heatmap(cm, annot=True, fmt='d')\n",
        "print(classification_report(y_test, y_pred))"
      ],
      "execution_count": null,
      "outputs": [
        {
          "output_type": "stream",
          "text": [
            "              precision    recall  f1-score   support\n",
            "\n",
            "           0       0.67      0.66      0.67        65\n",
            "           1       0.66      0.67      0.67        64\n",
            "\n",
            "    accuracy                           0.67       129\n",
            "   macro avg       0.67      0.67      0.67       129\n",
            "weighted avg       0.67      0.67      0.67       129\n",
            "\n"
          ],
          "name": "stdout"
        },
        {
          "output_type": "display_data",
          "data": {
            "image/png": "[encoded data removed]",
            "text/plain": [
              "<Figure size 432x288 with 2 Axes>"
            ]
          },
          "metadata": {
            "tags": [],
            "needs_background": "light"
          }
        }
      ]
    },
    {
      "cell_type": "code",
      "metadata": {
        "colab": {
          "base_uri": "https://localhost:8080/",
          "height": 418
        },
        "id": "PJCJU1TOsOZA",
        "outputId": "b342ed80-053c-4934-fb41-3d540f47e58b"
      },
      "source": [
        "X_train, X_test, y_train, y_test = train_test_split(data_filtered[['Expected', 'Rooms', 'SqrMeters', 'Floor']],data_filtered['Centre'], stratify = data_filtered['Centre'], random_state = 42)\n",
        "\n",
        "model = DecisionTreeClassifier()\n",
        "model.fit(X_train, y_train)\n",
        "y_pred = model.predict(X_test)\n",
        "\n",
        "cm = confusion_matrix(y_test, y_pred)\n",
        "sns.heatmap(cm, annot=True, fmt='d')\n",
        "print(classification_report(y_test, y_pred))"
      ],
      "execution_count": null,
      "outputs": [
        {
          "output_type": "stream",
          "text": [
            "              precision    recall  f1-score   support\n",
            "\n",
            "           0       0.85      0.83      0.84       331\n",
            "           1       0.21      0.23      0.22        65\n",
            "\n",
            "    accuracy                           0.73       396\n",
            "   macro avg       0.53      0.53      0.53       396\n",
            "weighted avg       0.74      0.73      0.74       396\n",
            "\n"
          ],
          "name": "stdout"
        },
        {
          "output_type": "display_data",
          "data": {
            "image/png": "[encoded data removed]",
            "text/plain": [
              "<Figure size 432x288 with 2 Axes>"
            ]
          },
          "metadata": {
            "tags": [],
            "needs_background": "light"
          }
        }
      ]
    },
    {
      "cell_type": "code",
      "metadata": {
        "colab": {
          "base_uri": "https://localhost:8080/",
          "height": 418
        },
        "id": "eVY-KN28weog",
        "outputId": "f6c7d138-ac0c-46bc-f08e-01403ada7636"
      },
      "source": [
        "X_train, X_test, y_train, y_test = train_test_split(X_unsampled, y_unsampled, stratify = y_unsampled, random_state = 42)\n",
        "\n",
        "model = AdaBoostClassifier()\n",
        "model.fit(X_train, y_train)\n",
        "y_pred = model.predict(X_test)\n",
        "\n",
        "cm = confusion_matrix(y_test, y_pred)\n",
        "sns.heatmap(cm, annot=True, fmt='d')\n",
        "print(classification_report(y_test, y_pred))"
      ],
      "execution_count": null,
      "outputs": [
        {
          "output_type": "stream",
          "text": [
            "              precision    recall  f1-score   support\n",
            "\n",
            "           0       0.61      0.59      0.60       331\n",
            "           1       0.60      0.62      0.61       331\n",
            "\n",
            "    accuracy                           0.60       662\n",
            "   macro avg       0.60      0.60      0.60       662\n",
            "weighted avg       0.60      0.60      0.60       662\n",
            "\n"
          ],
          "name": "stdout"
        },
        {
          "output_type": "display_data",
          "data": {
            "image/png": "[encoded data removed]",
            "text/plain": [
              "<Figure size 432x288 with 2 Axes>"
            ]
          },
          "metadata": {
            "tags": [],
            "needs_background": "light"
          }
        }
      ]
    },
    {
      "cell_type": "code",
      "metadata": {
        "colab": {
          "base_uri": "https://localhost:8080/",
          "height": 418
        },
        "id": "D_WZwLyExgjd",
        "outputId": "603407e7-e901-4e92-a833-3c662e286761"
      },
      "source": [
        "X_train, X_test, y_train, y_test = train_test_split(X_unsampled, y_unsampled, stratify = y_unsampled, random_state = 42)\n",
        "\n",
        "model = RandomForestClassifier()\n",
        "model.fit(X_train, y_train)\n",
        "y_pred = model.predict(X_test)\n",
        "\n",
        "cm = confusion_matrix(y_test, y_pred)\n",
        "sns.heatmap(cm, annot=True, fmt='d')\n",
        "print(classification_report(y_test, y_pred))"
      ],
      "execution_count": null,
      "outputs": [
        {
          "output_type": "stream",
          "text": [
            "              precision    recall  f1-score   support\n",
            "\n",
            "           0       0.98      0.82      0.89       331\n",
            "           1       0.84      0.98      0.91       331\n",
            "\n",
            "    accuracy                           0.90       662\n",
            "   macro avg       0.91      0.90      0.90       662\n",
            "weighted avg       0.91      0.90      0.90       662\n",
            "\n"
          ],
          "name": "stdout"
        },
        {
          "output_type": "display_data",
          "data": {
            "image/png": "[encoded data removed]",
            "text/plain": [
              "<Figure size 432x288 with 2 Axes>"
            ]
          },
          "metadata": {
            "tags": [],
            "needs_background": "light"
          }
        }
      ]
    }
  ]
}